{
  "nbformat": 4,
  "nbformat_minor": 0,
  "metadata": {
    "colab": {
      "name": "Vector-Calculus.ipynb",
      "provenance": [],
      "authorship_tag": "ABX9TyP2S0ciDIc4ezgA5BNvQ/h1",
      "include_colab_link": true
    },
    "kernelspec": {
      "name": "python3",
      "display_name": "Python 3"
    },
    "language_info": {
      "name": "python"
    }
  },
  "cells": [
    {
      "cell_type": "markdown",
      "metadata": {
        "id": "view-in-github",
        "colab_type": "text"
      },
      "source": [
        "<a href=\"https://colab.research.google.com/github/Charan1152/vector-calculus-py/blob/main/Vector_Calculus.ipynb\" target=\"_parent\"><img src=\"https://colab.research.google.com/assets/colab-badge.svg\" alt=\"Open In Colab\"/></a>"
      ]
    },
    {
      "cell_type": "markdown",
      "metadata": {
        "id": "OZ45lbNOxWrn"
      },
      "source": [
        "## **VECTOR DIFFERENTIATION**\n",
        "\n",
        "\n",
        "---\n",
        "\n",
        "\n",
        "-->Welcome to the experimental setup of vector differentiation with Python.\n",
        "\n",
        "\n",
        "Python lets you understand the nuances of vector differentiations, integrations and many more basic concepts of vector calculus.\n",
        "\n",
        "**Modules used:**\n",
        "\n",
        "1. Numpy\n",
        "2. Scipy \n",
        "3. Sympy\n",
        "\n",
        "I hope that everyone enjoys a lot of programming along with mathematics in this approach.\n",
        "\n",
        "\n",
        "---\n",
        "\n",
        "\n",
        "**Note:**\n",
        "\n",
        "1. I request everyone not to touch the code unless you are good at backtracking it. (Recommended not to touch)\n",
        "2. Please load all the cells so that the essential packages are included in the Jupyter file.(Recommended to run all the cells at once or one after the other)"
      ]
    },
    {
      "cell_type": "code",
      "metadata": {
        "id": "0FZo-z7JM4mK"
      },
      "source": [
        "import numpy as np\n",
        "import matplotlib.pyplot as plt\n",
        "from sympy import  *\n",
        "x,y,z=symbols('x y z')"
      ],
      "execution_count": null,
      "outputs": []
    },
    {
      "cell_type": "markdown",
      "metadata": {
        "id": "3FGd-uEyz8uy"
      },
      "source": [
        "Vectors are dimensional and magnitudinal references in free space. Vectors have dimensions which specify the space they are in. Based on the coordinates and their orientations many specific calculations can be done on vectors.\n",
        "\n",
        "Now, we are going to calculate the gradient of a vector i.e ***grad f*** and it is mathematically equal to the sum of partial derivatives of each vector coefficient with respect to the axes respectively.\n",
        "\n",
        "\n",
        "---\n",
        "\n",
        "\n",
        "**CAUTION:**\n",
        "Make sure you enter the correct syntax of python expressions for x squared times y its `x**2*y` and its important you follow the arthimetic operator rules of python, otherwise you'll encounter an error!"
      ]
    },
    {
      "cell_type": "code",
      "metadata": {
        "id": "ngVbxzkt9c-l"
      },
      "source": [
        "#Vector notation\n",
        "def make_vector(tup):\n",
        "  s=''\n",
        "  if len(tup)!=3:\n",
        "    print(\"Invalid dimension of length\",len(tup))\n",
        "  else:\n",
        "    for i in range(len(tup)):\n",
        "      if i==0:\n",
        "        s+=str(str(tup[i])+\" \"+str(\"i\")+\" + \")\n",
        "      elif i==1:\n",
        "        s+=str(str(tup[i])+\" \"+str(\"j\")+\" + \")\n",
        "      else:\n",
        "        s+=str(str(tup[i])+\" \"+str(\"k\"))\n",
        "    return s"
      ],
      "execution_count": null,
      "outputs": []
    },
    {
      "cell_type": "code",
      "metadata": {
        "colab": {
          "base_uri": "https://localhost:8080/"
        },
        "id": "DREijg5h1UO9",
        "outputId": "9a02a769-0b3c-489e-b0c4-6f2bffc99acc"
      },
      "source": [
        "#Vector formation\n",
        "ic=input(\"Enter i- component coefficient: \")\n",
        "jc=input(\"Enter j- component coefficient: \")\n",
        "kc=input(\"Enter k- component coefficient: \")\n",
        "vector=(ic,jc,kc)\n",
        "v=make_vector(vector)\n",
        "print(\"The vector is: \",v)"
      ],
      "execution_count": null,
      "outputs": [
        {
          "output_type": "stream",
          "name": "stdout",
          "text": [
            "Enter i- component coefficient: 3*x**2*y\n",
            "Enter j- component coefficient: 3*y**2*z\n",
            "Enter k- component coefficient: 3*z**2*x\n",
            "The vector is:  3*x**2*y i + 3*y**2*z j + 3*z**2*x k\n"
          ]
        }
      ]
    },
    {
      "cell_type": "markdown",
      "metadata": {
        "id": "XYv6bs5iKT59"
      },
      "source": [
        " **1. GRADIENT**"
      ]
    },
    {
      "cell_type": "code",
      "metadata": {
        "id": "20rqCeFR0M1Y"
      },
      "source": [
        "#Defining Gradient\n",
        "def grad(l,m,n):\n",
        "  a=diff(l,x)\n",
        "  b=diff(m,y)\n",
        "  c=diff(n,z)\n",
        "  return [a,b,c]"
      ],
      "execution_count": null,
      "outputs": []
    },
    {
      "cell_type": "code",
      "metadata": {
        "colab": {
          "base_uri": "https://localhost:8080/"
        },
        "id": "aV7pDhOF369u",
        "outputId": "60942ed1-a391-4a7f-ae56-7c718415ed04"
      },
      "source": [
        "# Gradient Call\n",
        "grad_comm=grad(ic,jc,kc)\n",
        "r=make_vector(grad_comm)\n",
        "print(\"The gradient of the vector is: \",r)"
      ],
      "execution_count": null,
      "outputs": [
        {
          "output_type": "stream",
          "name": "stdout",
          "text": [
            "The gradient of the vector is:  6*x*y i + 6*y*z j + 6*x*z k\n"
          ]
        }
      ]
    },
    {
      "cell_type": "markdown",
      "metadata": {
        "id": "xwjNAGIj715K"
      },
      "source": [
        "**2. CURL OF A VECTOR**"
      ]
    },
    {
      "cell_type": "code",
      "metadata": {
        "id": "2d1PiHNF7-wy"
      },
      "source": [
        ""
      ],
      "execution_count": null,
      "outputs": []
    },
    {
      "cell_type": "markdown",
      "metadata": {
        "id": "vggut8k0J6l9"
      },
      "source": [
        "\n",
        "\n",
        "---\n",
        "\n",
        "\n",
        "**AUTHOR : SAI CHARAN .K**\n"
      ]
    }
  ]
}